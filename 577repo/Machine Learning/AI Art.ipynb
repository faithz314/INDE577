{
 "cells": [
  {
   "cell_type": "markdown",
   "metadata": {},
   "source": [
    "# A Case Study on ML and AI Art\n"
   ]
  },
  {
   "cell_type": "markdown",
   "metadata": {},
   "source": [
    "Now that we've finished all the basic machine learning algorithms, I want to dive into a bit of my own personal connection to the modern day setting of machine learning. This course kind of inspired me to look into ML a little further, now that I understand a lot of the basic mechanics behind it, so I re-examined the rise of AI art today!\n"
   ]
  }
 ],
 "metadata": {
  "language_info": {
   "name": "python"
  }
 },
 "nbformat": 4,
 "nbformat_minor": 2
}
